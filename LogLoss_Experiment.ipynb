{
 "cells": [
  {
   "cell_type": "code",
   "execution_count": null,
   "metadata": {},
   "outputs": [],
   "source": [
    "import numpy as np\n",
    "import scipy.linalg as la\n",
    "import math\n",
    "import matplotlib.pyplot as plt\n",
    "import time\n",
    "import random\n",
    "\n",
    "from utils import *\n",
    "\n",
    "from numba import jit\n",
    "import warnings\n",
    "warnings.filterwarnings(\"ignore\")"
   ]
  },
  {
   "cell_type": "code",
   "execution_count": null,
   "metadata": {},
   "outputs": [],
   "source": [
    "from sklearn.datasets import load_svmlight_file\n",
    "\n",
    "dataset = \"mushrooms.txt\"\n",
    "data = load_svmlight_file(dataset)\n",
    "A, b = data[0].toarray(), data[1]\n",
    "\n",
    "b = 2 * b - 3\n",
    "n, d = A.shape"
   ]
  },
  {
   "cell_type": "code",
   "execution_count": null,
   "metadata": {},
   "outputs": [],
   "source": [
    "from sklearn.model_selection import train_test_split\n",
    "A_train, A_test, b_train, b_test = train_test_split(A, b, train_size=0.8001, shuffle=True)\n",
    "n_train = A_train.shape[0]"
   ]
  },
  {
   "cell_type": "code",
   "execution_count": null,
   "metadata": {},
   "outputs": [],
   "source": [
    "# parameters\n",
    "beta_x = 0.1\n",
    "beta_y = 0.1\n",
    "C = 0.1\n",
    "\n",
    "L_P = 5.25\n",
    "L_Q = 2 * min(beta_x, beta_y)\n",
    "mu_Q = L_Q"
   ]
  },
  {
   "cell_type": "code",
   "execution_count": null,
   "metadata": {},
   "outputs": [],
   "source": [
    "from numba import jit\n",
    "import warnings\n",
    "warnings.filterwarnings(\"ignore\")\n",
    "\n",
    "\n",
    "@jit\n",
    "def Pi(z, i):\n",
    "    x, y = split(z)\n",
    "    px = (-b_train[i] * (A_train[i].reshape((d, 1)) + y)) / (1 + np.exp(b_train[i] * float(x.T @ (A_train[i].reshape((d, 1)) + y))))\n",
    "    py = (b_train[i] * x) / (1 + np.exp(b_train[i] * float(x.T @ (A_train[i].reshape((d, 1)) + y))))\n",
    "    return merge(px, py).reshape((2*d,1))\n",
    "\n",
    "@jit\n",
    "def P(z):\n",
    "    p = np.zeros((2*d, 1))\n",
    "    ind = [i for i in range(0, 6500, 1)]\n",
    "    for i in ind:\n",
    "        p += Pi(z, i)\n",
    "    return p/n_train\n",
    "\n",
    "@jit\n",
    "def Q(z):\n",
    "    x, y = split(z)\n",
    "    return merge(beta_x * x, beta_y * y).reshape((2*d, 1))\n",
    "\n",
    "def R(z):\n",
    "    return P(z) + Q(z)\n",
    "\n",
    "def err_norm(z):\n",
    "    return np.linalg.norm(R(z))**2"
   ]
  },
  {
   "cell_type": "code",
   "execution_count": null,
   "metadata": {},
   "outputs": [],
   "source": [
    "def proj(z):\n",
    "    x, y = split(z)\n",
    "    y = y * C / np.linalg.norm(y, ord=2)\n",
    "    return merge(x, y).reshape((2*d, 1))\n",
    "\n",
    "def extragradient(z0, gamma, error=err_norm, iters=3000):\n",
    "\n",
    "    z = z0\n",
    "    times = [0.]\n",
    "    errs = [error(z)]\n",
    "    start = time.time()\n",
    "\n",
    "    for i in range(0, iters-1):\n",
    "        \n",
    "        w = proj(z - gamma * R(z))\n",
    "        z = proj(z - gamma * R(w))\n",
    "\n",
    "        times.append(time.time() - start)\n",
    "        errs.append(error(z))\n",
    "\n",
    "    return z, times, errs"
   ]
  },
  {
   "cell_type": "code",
   "execution_count": null,
   "metadata": {},
   "outputs": [],
   "source": [
    "L_B = 2 * L_P + L_Q\n",
    "iters_eagv = math.ceil(9 * L_B / L_P) - 1\n",
    "iters_eagv = iters_eagv // 5\n",
    "print(iters_eagv)"
   ]
  },
  {
   "cell_type": "code",
   "execution_count": null,
   "metadata": {},
   "outputs": [],
   "source": [
    "def create_B(z_k, theta):\n",
    "    def B(z):\n",
    "        return P(z_k) + Q(z) + (z - z_k)/theta\n",
    "    return B\n",
    "\n",
    "\n",
    "def EAG_V(z0, B, iters=iters_eagv):\n",
    "\n",
    "    z = z0\n",
    "    gamma = 0.618/L_B\n",
    "\n",
    "    for i in range(0, iters-1):\n",
    "        \n",
    "        w = z + (z0 - z)/(i+2) - gamma * B(z)\n",
    "        z = z + (z0 - z)/(i+2)- gamma * B(w)\n",
    "        gamma = gamma * (1 - (gamma * L_B)**2 / ((i+1)*(i+3)*(1 - (gamma * L_B)**2)) )\n",
    "\n",
    "    return z\n",
    "\n",
    "\n",
    "def extragrad_sliding(z0, gamma, theta, error=err_norm, iters_inner=iters_eagv, iters=3000):\n",
    "\n",
    "    z = z0\n",
    "    z_vals = [z]\n",
    "    times = [0.]\n",
    "    errs = [error(z)]\n",
    "    start = time.time()\n",
    "\n",
    "    for i in range(0, iters-1):\n",
    "        \n",
    "        B_tmp = create_B(z, theta)\n",
    "        u = EAG_V(z, B_tmp, iters_inner)\n",
    "        z = proj(z - gamma * R(u))\n",
    "\n",
    "        z_vals.append(z)\n",
    "        times.append(time.time() - start)\n",
    "        errs.append(error(z))\n",
    "\n",
    "    return z_vals, times, errs"
   ]
  },
  {
   "cell_type": "code",
   "execution_count": null,
   "metadata": {},
   "outputs": [],
   "source": [
    "# Starting point\n",
    "x0, y0 = np.random.uniform(low=-L_P/d, high=L_P/d, size=(d,1)), np.random.uniform(low=-1, high=1, size=(d,1))\n",
    "z0 = proj(merge(x0, y0).reshape((2*d, 1)))"
   ]
  },
  {
   "cell_type": "code",
   "execution_count": null,
   "metadata": {},
   "outputs": [],
   "source": [
    "# Optimal params\n",
    "gamma_opt = 6.5/L_P\n",
    "theta_opt = 0.6/L_P\n",
    "iters_eagv = 3\n",
    "iters = 30\n",
    "\n",
    "_, times1, errs1 = extragradient(z0, gamma=1/L_P, error=err_norm, iters=iters)\n",
    "_, times2, errs2 = extragrad_sliding(z0, gamma=gamma_opt, theta=theta_opt, iters_inner=iters_eagv, \n",
    "                                     error=err_norm, iters=iters)"
   ]
  },
  {
   "cell_type": "code",
   "execution_count": null,
   "metadata": {},
   "outputs": [],
   "source": [
    "# Criterion from iteration\n",
    "\n",
    "plt.figure(figsize = (4.5,3.5))\n",
    "plt.semilogy(range(len(errs1)), errs1, color='g', label='EG')\n",
    "plt.semilogy(range(len(errs2)), errs2, color='r', label='EG Sliding')\n",
    "\n",
    "plt.title('Criterion from iteration')\n",
    "plt.xlabel(\"Num iteration\")\n",
    "plt.ylabel(r\"Log $\\|R(z)\\|_2^2$\")\n",
    "\n",
    "plt.grid(True, linestyle='--', linewidth=0.4)\n",
    "\n",
    "plt.legend(fontsize=8)\n",
    "plt.tight_layout()\n",
    "plt.savefig(f'Criterion_from_iteration_logloss.pdf')\n",
    "plt.show()"
   ]
  },
  {
   "cell_type": "code",
   "execution_count": null,
   "metadata": {},
   "outputs": [],
   "source": [
    "# Criterion from time \n",
    "\n",
    "plt.figure(figsize = (4.5,3.5))\n",
    "plt.semilogy(times1, errs1, color='g', label='EG')\n",
    "plt.semilogy(times2[:15], errs2[:15], color='r', label='EG Sliding')\n",
    "\n",
    "plt.title('Criterion from time')\n",
    "plt.xlabel(\"Computation time, s\")\n",
    "plt.ylabel(r\"Log $\\|R(z)\\|_2^2$\")\n",
    "\n",
    "plt.grid(True, linestyle='--', linewidth=0.4)\n",
    "\n",
    "plt.legend(fontsize=8)\n",
    "plt.tight_layout()\n",
    "plt.savefig(f'Criterion_from_time_logloss.pdf')\n",
    "plt.show()"
   ]
  }
 ],
 "metadata": {
  "kernelspec": {
   "display_name": "Python 3",
   "language": "python",
   "name": "python3"
  },
  "language_info": {
   "codemirror_mode": {
    "name": "ipython",
    "version": 3
   },
   "file_extension": ".py",
   "mimetype": "text/x-python",
   "name": "python",
   "nbconvert_exporter": "python",
   "pygments_lexer": "ipython3",
   "version": "3.10.8"
  },
  "orig_nbformat": 4
 },
 "nbformat": 4,
 "nbformat_minor": 2
}
